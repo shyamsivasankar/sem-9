{
 "cells": [
  {
   "cell_type": "markdown",
   "metadata": {},
   "source": [
    "### Lloyd - Max Quantization"
   ]
  },
  {
   "cell_type": "code",
   "execution_count": 1,
   "metadata": {},
   "outputs": [],
   "source": [
    "import numpy as np"
   ]
  },
  {
   "cell_type": "code",
   "execution_count": 2,
   "metadata": {},
   "outputs": [],
   "source": [
    "R = np.random.randint(100,size = (40))\n",
    "R.sort()\n",
    "n = 8\n",
    "vmin = min(R)\n",
    "vmax = max(R)"
   ]
  },
  {
   "cell_type": "code",
   "execution_count": 3,
   "metadata": {},
   "outputs": [],
   "source": [
    "ti = []\n",
    "for i in range(n):\n",
    "    ti.append(vmin+((i-0.5)/n)*(vmax-vmin))"
   ]
  },
  {
   "cell_type": "code",
   "execution_count": 4,
   "metadata": {},
   "outputs": [
    {
     "name": "stdout",
     "output_type": "stream",
     "text": [
      "iteration  0  ========>\n",
      "iteration  1  ========>\n",
      "iteration  2  ========>\n",
      "iteration  3  ========>\n"
     ]
    }
   ],
   "source": [
    "tol = 1e-6\n",
    "max_iter = 1000\n",
    "j = 0\n",
    "while j<max_iter:\n",
    "    print(\"iteration \",j,\" ========>\")\n",
    "    j+=1\n",
    "    new_vals = []\n",
    "    for i in range(n-1):\n",
    "        indices = np.where((R>ti[i]) & (R<=ti[i+1]))[0]\n",
    "        if len(indices)>0:\n",
    "            new_vals.append(np.mean(R[indices]))\n",
    "        else:\n",
    "            new_vals.append((ti[i]+ti[i+1])/2)\n",
    "    new_ti = np.zeros(n)\n",
    "    new_ti[0] = vmin\n",
    "    new_ti[-1] = vmax\n",
    "    for i in range(1,n-1):\n",
    "        new_ti[i] = (new_vals[i-1]+new_vals[i])/2\n",
    "    \n",
    "    if np.max(np.abs(new_ti - ti)) < tol:\n",
    "        break\n",
    "    ti = new_ti"
   ]
  },
  {
   "cell_type": "code",
   "execution_count": 5,
   "metadata": {},
   "outputs": [
    {
     "data": {
      "text/plain": [
       "array([ 4.        ,  9.875     , 18.625     , 30.5       , 43.15      ,\n",
       "       56.4       , 72.85714286, 95.        ])"
      ]
     },
     "execution_count": 5,
     "metadata": {},
     "output_type": "execute_result"
    }
   ],
   "source": [
    "ti"
   ]
  }
 ],
 "metadata": {
  "kernelspec": {
   "display_name": "Python 3",
   "language": "python",
   "name": "python3"
  },
  "language_info": {
   "codemirror_mode": {
    "name": "ipython",
    "version": 3
   },
   "file_extension": ".py",
   "mimetype": "text/x-python",
   "name": "python",
   "nbconvert_exporter": "python",
   "pygments_lexer": "ipython3",
   "version": "3.12.0"
  }
 },
 "nbformat": 4,
 "nbformat_minor": 2
}
