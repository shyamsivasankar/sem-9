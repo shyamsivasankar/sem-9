{
 "cells": [
  {
   "cell_type": "markdown",
   "id": "024365bd",
   "metadata": {},
   "source": [
    "### Perceptron"
   ]
  },
  {
   "cell_type": "code",
   "execution_count": 1,
   "id": "d5e608fe",
   "metadata": {},
   "outputs": [],
   "source": [
    "import numpy as np\n",
    "import matplotlib.pyplot as plt\n",
    "import pandas as pd"
   ]
  },
  {
   "cell_type": "code",
   "execution_count": 2,
   "id": "3ababb87",
   "metadata": {},
   "outputs": [],
   "source": [
    "data = [[0,0,0],\n",
    "        [0,1,0],\n",
    "        [1,0,0],\n",
    "        [1,1,1]]\n",
    "df = pd.DataFrame(data,columns=['x1','x2','y'])\n",
    "x0 = [1 for _ in range(len(df))]\n",
    "df.insert(loc=0, column='x0', value=x0)"
   ]
  },
  {
   "cell_type": "code",
   "execution_count": 3,
   "id": "76c165b7",
   "metadata": {},
   "outputs": [
    {
     "name": "stdout",
     "output_type": "stream",
     "text": [
      "Index(['x0', 'x1', 'x2'], dtype='object')\n"
     ]
    }
   ],
   "source": [
    "features = df.columns[:-1]\n",
    "label = df.columns[-1]\n",
    "print(features)"
   ]
  },
  {
   "cell_type": "code",
   "execution_count": 4,
   "id": "356d4694",
   "metadata": {},
   "outputs": [],
   "source": [
    "wold = [1 for _ in range(len(features))]"
   ]
  },
  {
   "cell_type": "code",
   "execution_count": 5,
   "id": "3d69e871",
   "metadata": {},
   "outputs": [
    {
     "name": "stdout",
     "output_type": "stream",
     "text": [
      "Epoch : 1\n",
      "iterarion : 1    [1, 0, 0] [1, 1, 1] 1 1 0\n",
      "iterarion : 2    [1, 0, 1] [0, 1, 1] 1 1 0\n",
      "iterarion : 3    [1, 1, 0] [-1, 1, 0] 0 0 0\n",
      "iterarion : 4    [1, 1, 1] [-1, 1, 0] 0 0 1\n",
      "\n",
      "Epoch : 2\n",
      "iterarion : 1    [1, 0, 0] [0, 2, 1] 0 0 0\n",
      "iterarion : 2    [1, 0, 1] [0, 2, 1] 1 1 0\n",
      "iterarion : 3    [1, 1, 0] [-1, 2, 0] 1 1 0\n",
      "iterarion : 4    [1, 1, 1] [-2, 1, 0] -1 0 1\n",
      "\n",
      "Epoch : 3\n",
      "iterarion : 1    [1, 0, 0] [-1, 2, 1] -1 0 0\n",
      "iterarion : 2    [1, 0, 1] [-1, 2, 1] 0 0 0\n",
      "iterarion : 3    [1, 1, 0] [-1, 2, 1] 1 1 0\n",
      "iterarion : 4    [1, 1, 1] [-2, 1, 1] 0 0 1\n",
      "\n",
      "Epoch : 4\n",
      "iterarion : 1    [1, 0, 0] [-1, 2, 2] -1 0 0\n",
      "iterarion : 2    [1, 0, 1] [-1, 2, 2] 1 1 0\n",
      "iterarion : 3    [1, 1, 0] [-2, 2, 1] 0 0 0\n",
      "iterarion : 4    [1, 1, 1] [-2, 2, 1] 1 1 1\n",
      "\n",
      "Epoch : 5\n",
      "iterarion : 1    [1, 0, 0] [-2, 2, 1] -2 0 0\n",
      "iterarion : 2    [1, 0, 1] [-2, 2, 1] -1 0 0\n",
      "iterarion : 3    [1, 1, 0] [-2, 2, 1] 0 0 0\n",
      "iterarion : 4    [1, 1, 1] [-2, 2, 1] 1 1 1\n",
      "The final weights are [-2, 2, 1]\n"
     ]
    }
   ],
   "source": [
    "n = len(df)\n",
    "m = len(wold)\n",
    "wnew = wold[:]\n",
    "# print()\n",
    "epoch = 1 \n",
    "while True:\n",
    "    print('Epoch :',epoch)\n",
    "    for i in range(n):\n",
    "        wtx = 0\n",
    "        for j in range(m):\n",
    "            wtx+=(df.iloc[i][j]*wnew[j])\n",
    "        classifier = 0\n",
    "        if wtx>0:\n",
    "            classifier = 1\n",
    "        print('iterarion :',i+1,'  ',list(df.iloc[i][features]),wnew,wtx,classifier,df['y'][i])\n",
    "        if classifier == df['y'][i]:\n",
    "            continue\n",
    "        elif classifier > df['y'][i]:\n",
    "            for j in range(m):\n",
    "                wnew[j]-=df.iloc[i][j]\n",
    "        else:\n",
    "            for j in range(m):\n",
    "                wnew[j]+=df.iloc[i][j]\n",
    "    if wnew == wold:\n",
    "        break\n",
    "    else:\n",
    "        wold = wnew[:]\n",
    "    epoch+=1\n",
    "    print()\n",
    "print('The final weights are',wnew)"
   ]
  },
  {
   "cell_type": "code",
   "execution_count": null,
   "id": "60d0e18d",
   "metadata": {},
   "outputs": [],
   "source": []
  },
  {
   "cell_type": "code",
   "execution_count": null,
   "id": "7eba4a7d",
   "metadata": {},
   "outputs": [],
   "source": []
  }
 ],
 "metadata": {
  "kernelspec": {
   "display_name": "Python 3 (ipykernel)",
   "language": "python",
   "name": "python3"
  },
  "language_info": {
   "codemirror_mode": {
    "name": "ipython",
    "version": 3
   },
   "file_extension": ".py",
   "mimetype": "text/x-python",
   "name": "python",
   "nbconvert_exporter": "python",
   "pygments_lexer": "ipython3",
   "version": "3.10.9"
  }
 },
 "nbformat": 4,
 "nbformat_minor": 5
}
